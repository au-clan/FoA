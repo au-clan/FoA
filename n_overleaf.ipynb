{
 "cells": [
  {
   "cell_type": "markdown",
   "metadata": {},
   "source": [
    "# Game of 24"
   ]
  },
  {
   "cell_type": "code",
   "execution_count": 31,
   "metadata": {},
   "outputs": [
    {
     "name": "stdout",
     "output_type": "stream",
     "text": [
      "0.18\n"
     ]
    }
   ],
   "source": [
    "import re\n",
    "import json\n",
    "\n",
    "def get_number(string):\n",
    "    numbers = re.findall(r'\\d+', string)\n",
    "    numbers = list(map(int, numbers))\n",
    "    return numbers[0] \n",
    "    \n",
    "def get_sr(file_path):\n",
    "    file_name = file_path.split('/')[-1]\n",
    "    params = file_name.split('_')\n",
    "\n",
    "    diff = get_number(params[0])\n",
    "    n_agents = get_number(params[1])\n",
    "    n_steps = get_number(params[2])\n",
    "    n_samples = get_number(params[3])\n",
    "    k = get_number(params[4])\n",
    "    origin_value = get_number(params[5])\n",
    "    backtrack = get_number(params[6].split(\".\")[1])/10\n",
    "    resampling = params[7].split(\"-\")[0]\n",
    "\n",
    "    with open(file_path, 'r') as file:\n",
    "        data = json.load(file)\n",
    "\n",
    "    success = 0\n",
    "    for experiment in data.values():\n",
    "        if {\"r\":1} in experiment[\"Verifications\"]:\n",
    "            success +=1\n",
    "    success_rate  = success/len(data)\n",
    "\n",
    "    print(success_rate)\n",
    "\n",
    "file_path = \"logs/2024-03-07/23:00/gameof24/9diff_5agents_10steps_50sample_1k_60origin_0.6backtrack_linear-resampling.json\"\n",
    "get_sr(file_path)"
   ]
  }
 ],
 "metadata": {
  "kernelspec": {
   "display_name": "Python 3",
   "language": "python",
   "name": "python3"
  },
  "language_info": {
   "codemirror_mode": {
    "name": "ipython",
    "version": 3
   },
   "file_extension": ".py",
   "mimetype": "text/x-python",
   "name": "python",
   "nbconvert_exporter": "python",
   "pygments_lexer": "ipython3",
   "version": "3.11.7"
  }
 },
 "nbformat": 4,
 "nbformat_minor": 2
}
