{
 "cells": [
  {
   "cell_type": "markdown",
   "metadata": {},
   "source": [
    "# Testing notebook\n",
    "This is a testing notebook, serving no other purpose other than testing things out while developping."
   ]
  },
  {
   "cell_type": "code",
   "execution_count": 1,
   "metadata": {},
   "outputs": [],
   "source": [
    "import sys\n",
    "sys.path.append(\"..\")\n",
    "\n",
    "from random import randint\n",
    "\n",
    "from src.models import OpenAIBot\n",
    "from src.prompts.game24 import foa_step_prompt\n",
    "from src.tasks.base import DATA_PATH\n",
    "from src.tasks.game24 import Game24\n",
    "\n",
    "%load_ext autoreload\n",
    "%autoreload 2"
   ]
  },
  {
   "cell_type": "code",
   "execution_count": 2,
   "metadata": {},
   "outputs": [
    {
     "name": "stdout",
     "output_type": "stream",
     "text": [
      "Prompt \n",
      "Use numbers and basic arithmetic operations (+ - * /) to obtain 24. At this step, you are only allowed to choose two of the input numbers to obtain a new number.\n",
      "Input: 2 8 8 14\n",
      "Possible next steps:\n",
      "2 + 8 = 10 (left: 8 10 14)\n",
      "Input: 7 5 8 11\n",
      "Possible next steps:\n",
      "11 - 7 = 4 (left: 4 5 8)\n",
      "Input: 4 12 3 1\n",
      "Possible next steps:\n",
      "12 / 4 = 3 (left: 3 3 1)\n",
      "Input: 2 4 13 9\n",
      "Possible next steps:\n",
      "2 * 4 = 8 (left: 8 13 9)\n",
      "Input: 3 5 6 10\n",
      "Possible next steps:\n",
      "10 + 6 = 16 (left: 3 5 16)\n",
      "Input: 25 1 2 3\n",
      "Possible next steps:\n",
      "\n",
      "----\n",
      "----\n",
      "\n",
      "Response \n",
      "25 - 1 = 24 (left: 24 2 3)\n"
     ]
    }
   ],
   "source": [
    "# CoT + ToT's prompt to test the model (based on ToT only 4% success rate)\n",
    "\n",
    "input = \"25 1 2 3\"\n",
    "bot = OpenAIBot(model=\"gpt-4\")\n",
    "\n",
    "prompt = foa_step_prompt.format(input=input)\n",
    "response = bot.request(prompt)\n",
    "\n",
    "print(f\"Prompt \\n{prompt}\")\n",
    "print(\"----\\n----\\n\")\n",
    "print(f\"Response \\n{response}\")\n"
   ]
  },
  {
   "cell_type": "code",
   "execution_count": 3,
   "metadata": {},
   "outputs": [
    {
     "name": "stdout",
     "output_type": "stream",
     "text": [
      "Input: 1 2 3 12\n",
      "12 / 2 = 6 (left: 1 3 6)\n",
      "3 * 6 = 18 (left: 1 18)\n",
      "18 / 1 = 18 (left: 18)\n",
      "This input only contains one number, so no operations can be performed.\n"
     ]
    }
   ],
   "source": [
    "# Game24 task step function\n",
    "bot = OpenAIBot(model=\"gpt-4\")\n",
    "task = Game24(bot)\n",
    "\n",
    "\n",
    "idx = randint(0, len(task.data))\n",
    "task.get_input(idx)\n",
    "print(f\"Input: {task.input}\")\n",
    "\n",
    "for i in range(task.max_steps):\n",
    "    task.step()\n",
    "\n",
    "print(\"\\n\".join(task.steps))"
   ]
  }
 ],
 "metadata": {
  "kernelspec": {
   "display_name": "foa",
   "language": "python",
   "name": "python3"
  },
  "language_info": {
   "codemirror_mode": {
    "name": "ipython",
    "version": 3
   },
   "file_extension": ".py",
   "mimetype": "text/x-python",
   "name": "python",
   "nbconvert_exporter": "python",
   "pygments_lexer": "ipython3",
   "version": "3.12.0"
  }
 },
 "nbformat": 4,
 "nbformat_minor": 2
}
