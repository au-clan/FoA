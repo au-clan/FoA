{
 "cells": [
  {
   "cell_type": "markdown",
   "metadata": {},
   "source": [
    "# Testing notebook\n",
    "This is a testing notebook, serving no other purpose other than testing things out while developping."
   ]
  },
  {
   "cell_type": "code",
   "execution_count": 3,
   "metadata": {},
   "outputs": [],
   "source": [
    "import sys\n",
    "sys.path.append(\"..\")\n",
    "\n",
    "from src.models import OpenAIBot\n",
    "from src.prompts.game24_tot import *"
   ]
  },
  {
   "cell_type": "code",
   "execution_count": 16,
   "metadata": {},
   "outputs": [
    {
     "name": "stdout",
     "output_type": "stream",
     "text": [
      "Prompt \n",
      "Use numbers and basic arithmetic operations (+ - * /) to obtain 24. Each step, you are only allowed to choose two of the remaining numbers to obtain a new number.\n",
      "Input: 4 4 6 8\n",
      "Steps:\n",
      "4 + 8 = 12 (left: 4 6 12)\n",
      "6 - 4 = 2 (left: 2 12)\n",
      "2 * 12 = 24 (left: 24)\n",
      "Answer: (6 - 4) * (4 + 8) = 24\n",
      "Input: 2 9 10 12\n",
      "Steps:\n",
      "12 * 2 = 24 (left: 9 10 24)\n",
      "10 - 9 = 1 (left: 1 24)\n",
      "24 * 1 = 24 (left: 24)\n",
      "Answer: (12 * 2) * (10 - 9) = 24\n",
      "Input: 4 9 10 13\n",
      "Steps:\n",
      "13 - 10 = 3 (left: 3 4 9)\n",
      "9 - 3 = 6 (left: 4 6)\n",
      "4 * 6 = 24 (left: 24)\n",
      "Answer: 4 * (9 - (13 - 10)) = 24\n",
      "Input: 1 4 8 8\n",
      "Steps:\n",
      "8 / 4 = 2 (left: 1 2 8)\n",
      "1 + 2 = 3 (left: 3 8)\n",
      "3 * 8 = 24 (left: 24)\n",
      "Answer: (1 + 8 / 4) * 8 = 24\n",
      "Input: 5 5 5 9\n",
      "Steps:\n",
      "5 + 5 = 10 (left: 5 9 10)\n",
      "10 + 5 = 15 (left: 9 15)\n",
      "15 + 9 = 24 (left: 24)\n",
      "Answer: ((5 + 5) + 5) + 9 = 24\n",
      "Input: 1 1 4 6\n",
      "\n",
      "----\n",
      "----\n",
      "\n",
      "Response \n",
      "Steps:\n",
      "6 * 4 = 24 (left: 1 1 24)\n",
      "1 + 1 = 2 (left: 2 24)\n",
      "24 * 2 = 48 (left: 48)\n",
      "Answer: (6 * 4) * (1 + 1) = 48\n",
      "\n",
      "Note: It's impossible to get 24 with these numbers following the rules. The closest we can get is 48.\n"
     ]
    }
   ],
   "source": [
    "# CoT + ToT's prompt to test the model (based on ToT only 4% success rate)\n",
    "\n",
    "input = \"1 1 4 6\"\n",
    "bot = OpenAIBot(model=\"gpt-4\")\n",
    "\n",
    "prompt = cot_prompt.format(input=input)\n",
    "response = bot.request(prompt)\n",
    "\n",
    "print(f\"Prompt \\n{prompt}\")\n",
    "print(\"----\\n----\\n\")\n",
    "print(f\"Response \\n{response}\")\n"
   ]
  }
 ],
 "metadata": {
  "kernelspec": {
   "display_name": "foa",
   "language": "python",
   "name": "python3"
  },
  "language_info": {
   "codemirror_mode": {
    "name": "ipython",
    "version": 3
   },
   "file_extension": ".py",
   "mimetype": "text/x-python",
   "name": "python",
   "nbconvert_exporter": "python",
   "pygments_lexer": "ipython3",
   "version": "3.12.0"
  }
 },
 "nbformat": 4,
 "nbformat_minor": 2
}
