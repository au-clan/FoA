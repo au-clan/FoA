{
 "cells": [
  {
   "cell_type": "code",
   "execution_count": 1,
   "metadata": {},
   "outputs": [],
   "source": [
    "# Imports\n",
    "\n",
    "from dataclasses import dataclass\n",
    "from typing import List\n",
    "\n",
    "import random\n",
    "\n",
    "import asyncio\n",
    "import re\n",
    "import math\n",
    "import random\n",
    "import numpy as np\n",
    "from sympy import simplify\n",
    "\n",
    "random.seed(0)\n",
    "\n",
    "from async_engine.batched_api import BatchingAPI\n",
    "from async_engine.api import API\n",
    "\n",
    "from src.prompts.adapt import gameof24 as llama_prompts\n",
    "from utils import parse_suggestions, create_box"
   ]
  },
  {
   "cell_type": "code",
   "execution_count": 2,
   "metadata": {},
   "outputs": [],
   "source": [
    "# State class\n",
    "\n",
    "@dataclass(frozen=True)\n",
    "class GameOf24State:\n",
    "    # game of 24 puzzle, for example 1 1 4 6\n",
    "    puzzle: str\n",
    "\n",
    "    # initialized to the same value as puzzle, but is updated as the game progresses\n",
    "    current_state: str\n",
    "\n",
    "    steps: List[str]\n",
    "\n",
    "    #Randomness used for resampling (random seed)\n",
    "    randomness: int\n",
    "\n",
    "    def __hash__(self):\n",
    "        return hash((self.puzzle, self.current_state, \" -> \".join(self.steps)))\n",
    "    \n",
    "    def items(self):\n",
    "        return self.puzzle, self.current_state, self.steps, self.randomness\n",
    "    \n",
    "    def duplicate(self, randomness=None):\n",
    "        return GameOf24State(\n",
    "            puzzle=self.puzzle,\n",
    "            current_state=self.current_state,\n",
    "            steps=self.steps,\n",
    "            randomness=randomness if randomness is not None else self.randomness)"
   ]
  },
  {
   "cell_type": "code",
   "execution_count": 3,
   "metadata": {},
   "outputs": [
    {
     "name": "stdout",
     "output_type": "stream",
     "text": [
      "Initial State\n",
      "('1 1 4 6', '1 1 4 6', [], 864) \n",
      "\n",
      "Step: 0\n",
      "('1 1 4 6', '1 4 6', ['1 * 1 = 1'], 394) \n",
      "\n",
      "Step: 1\n",
      "('1 1 4 6', '1 24', ['1 * 1 = 1', '4 * 6 = 24'], 776) \n",
      "\n",
      "Step: 2\n",
      "('1 1 4 6', '24', ['1 * 1 = 1', '4 * 6 = 24', '1 * 24 = 24'], 911) \n",
      "\n"
     ]
    }
   ],
   "source": [
    "#Testing the game of 24\n",
    "\n",
    "states = []\n",
    "puzzle = \"1 1 4 6\"\n",
    "example = GameOf24State(puzzle=puzzle, current_state=puzzle, steps=[], randomness=random.randint(0, 1000))\n",
    "\n",
    "# for step in range(2):\n",
    "#     print(f\"Step {step} : Stepping\")\n",
    "\n",
    "print(\"Initial State\")\n",
    "print(example.items(), \"\\n\")\n",
    "\n",
    "print(\"Step: 0\")\n",
    "example = GameOf24State(puzzle=\"1 1 4 6\", current_state=\"1 4 6\", steps=example.steps + [\"1 * 1 = 1\"], randomness=random.randint(0, 1000))\n",
    "print(example.items(), \"\\n\")\n",
    "\n",
    "\n",
    "print(\"Step: 1\")\n",
    "example = GameOf24State(puzzle=\"1 1 4 6\", current_state=\"1 24\", steps=example.steps + [\"4 * 6 = 24\"], randomness=random.randint(0, 1000))\n",
    "print(example.items(), \"\\n\")\n",
    "\n",
    "print(\"Step: 2\")\n",
    "example = GameOf24State(puzzle=\"1 1 4 6\", current_state=\"24\", steps=example.steps + [\"1 * 24 = 24\"], randomness=random.randint(0, 1000))\n",
    "print(example.items(), \"\\n\")"
   ]
  },
  {
   "cell_type": "code",
   "execution_count": 3,
   "metadata": {},
   "outputs": [],
   "source": [
    "#Reflexion agent :O\n",
    "\n",
    "class GameOf24Agent:\n",
    "\n",
    "    @staticmethod\n",
    "    async def step(state: GameOf24State, api, namespace, reflexion: list)-> GameOf24State:\n",
    "        \"\"\"\n",
    "        Given a state, returns the next state one.\n",
    "        \"\"\"\n",
    "\n",
    "        # set up the prompt, based on the current state\n",
    "\n",
    "        # ToT uses bfs_prompt to generate next steps but then uses\n",
    "        # the cot_prompt to get the final expression. \n",
    "        # For example, input : 1 1 4 6\n",
    "        # Step 0 : '1 - 1 = 0 (left: 0 4 6)'          BFS prompt\n",
    "        # Step 1 : '0 + 4 = 4 (left: 4 6)'            BFS prompt\n",
    "        # Step 2 : '4 * 6 = 24 (left: 24)'            BFS prompt\n",
    "        # Step 3 : Answer : ((1 - 1) + 4) * 6 = 24    CoT prompt\n",
    "\n",
    "\n",
    "        # set up the prompt, based on the current state\n",
    "\n",
    "        current_state = state.current_state\n",
    "        \n",
    "        if current_state.strip() == \"24\":\n",
    "            # CoT prompt\n",
    "            steps = \"\\n\".join(state.steps) + \"\\n\"\n",
    "            \n",
    "            if len(reflexion) == 0:\n",
    "                prompt = llama_prompts.cot_prompt.format(input=state.puzzle) + \"Steps:\\n\" + steps + \"Answer: \"\n",
    "            else:\n",
    "                prompt = llama_prompts.cot_prompt.format(input=current_state, puzzle = \"1 1 4 6\", reflexion=reflexion[0]) \n",
    "            \n",
    "\n",
    "            # Set up CoT prompt\n",
    "            # if any(author in api.model for author in [\"meta\", \"google\", \"mistral\", \"gpt-4o\"]):\n",
    "            #     prompt = llama_prompts.cot_prompt.format(input=state.puzzle) + \"Steps:\\n\" + steps + \"Answer: \"\n",
    "            # else:\n",
    "            #     prompt = totor_prompts.cot_prompt.format(input=state.puzzle) + \"Steps:\\n\" + steps\n",
    "\n",
    "            # Get the final expression\n",
    "            suggestions = await api.buffered_request(prompt, key=hash(state), namespace=namespace)\n",
    "\n",
    "            # State does not change, only the steps\n",
    "            selected_suggestion = suggestions\n",
    "            selected_state = state.current_state\n",
    "            \n",
    "\n",
    "\n",
    "        else:\n",
    "            if len(reflexion) == 0:\n",
    "                prompt = llama_prompts.bfs_prompt.format(input=current_state) \n",
    "            else:\n",
    "                prompt = llama_prompts.bfs_reflexion_prompt.format(input=current_state, puzzle = \"1 1 4 6\", reflexion=reflexion[0]) \n",
    "                \n",
    "            # Set up BFS prompt\n",
    "            # if any(author in api.model for author in [\"meta\", \"google\", \"mistral\", \"gpt-4o\"]):\n",
    "            #     prompt = llama_prompts.bfs_prompt.format(input=current_state) + \"Keep in mind the following critique from the last step: \\n\" + reflexion_suggestions\n",
    "            # else:\n",
    "            #     prompt = totor_prompts.bfs_prompt.format(input=current_state) + \"Keep in mind the following critique from the last step: \\n\" + reflexion_suggestions\n",
    "\n",
    "            # Get the next state\n",
    "            # suggestions = await api.buffered_request(prompt, key=hash(state), namespace=namespace)\n",
    "\n",
    "            suggestions = await api.buffered_request(prompt, key=hash(state), namespace=namespace)\n",
    "\n",
    "            # parse suggestions, based on the current state\n",
    "            parsed_suggestions = parse_suggestions(suggestions)\n",
    "            if parsed_suggestions == []:\n",
    "                print(f\"No suggestions were parsed from state: {state}\")\n",
    "                print(f\"\\nPrompt: {prompt}\\nSuggestions: {suggestions}\\nParsed suggestions: {' | '.join(parsed_suggestions)}\\n\")\n",
    "                assert False, \"No suggestions found.\"\n",
    "            \n",
    "            suggestions = parsed_suggestions\n",
    "            \n",
    "            random.seed(state.randomness)\n",
    "            selected_suggestion = random.choice(suggestions)\n",
    "            selected_state = GameOf24Agent.parse_next_state(selected_suggestion)\n",
    "\n",
    "        # set up new state object\n",
    "        next_state = GameOf24State(\n",
    "            puzzle=state.puzzle,\n",
    "            current_state=selected_state,\n",
    "            steps=state.steps + [selected_suggestion],\n",
    "            randomness=random.randint(0, 1000)\n",
    "        )\n",
    "        return next_state\n",
    "    \n",
    "    @staticmethod\n",
    "    def parse_next_state(suggestion: str) -> str:\n",
    "        return suggestion.split('left: ')[-1].split(')')[0]\n",
    "    \n",
    "    @staticmethod\n",
    "    def verify(state: GameOf24State)-> dict:\n",
    "            \"\"\"\n",
    "            Verifies the output of a given task\n",
    "                1. Checks if the numbers used are the same as the ones provided.\n",
    "                2. Checks if the operations performed result to 24.\n",
    "\n",
    "            States \n",
    "                {\"r\": 0} : Not finished.\n",
    "                {\"r\": 1} : Finished and correct.\n",
    "                {\"r\": -1} : Finished and incorrect.\n",
    "            \"\"\"\n",
    "            current_states = state.current_state.split(\" \")\n",
    "            if len(current_states) !=1 or len(state.steps)<=3:\n",
    "                # More than one number left\n",
    "                return {'r':0}\n",
    "            elif current_states[0] != \"24\":\n",
    "                # One number left and it is not 24\n",
    "                return {'r':-1}\n",
    "            else:\n",
    "                # One number left and it is 24\n",
    "                expression = state.steps[-1].lower().replace('answer: ', '').split('=')[0]\n",
    "                numbers = re.findall(r'\\d+', expression)\n",
    "                problem_numbers = re.findall(r'\\d+', state.puzzle)\n",
    "                if sorted(numbers) != sorted(problem_numbers):\n",
    "                    # Numbers used are not the same as the ones provided\n",
    "                    return {'r': -1}\n",
    "                try:\n",
    "                    if simplify(expression) == 24:\n",
    "                        return {'r': 1}\n",
    "                    else:\n",
    "                        # Operations performed do not result to 24\n",
    "                        return {'r': -1}\n",
    "                except Exception as e:\n",
    "                    print(e)\n",
    "                    return {'r': -1}\n",
    "\n",
    "    @staticmethod\n",
    "    def generate_reflexion(puzzle: str, steps, state: GameOf24State, api, namespace) -> str:\n",
    "        prompt = llama_prompts.reflexion_prompt.format(puzzle=puzzle, steps=steps)\n",
    "        reflexion = api.buffered_request(prompt, key=hash(state), namespace=namespace)\n",
    "        return reflexion\n",
    "\n",
    "    @staticmethod\n",
    "    def generate_summary(puzzle: str, steps, state: GameOf24State, api, namespace) -> str:\n",
    "        prompt = llama_prompts.summary_prompt.format(puzzle=puzzle, steps=steps)\n",
    "        reflexion = api.buffered_request(prompt, key=hash(state), namespace=namespace)\n",
    "        return reflexion\n"
   ]
  },
  {
   "cell_type": "markdown",
   "metadata": {},
   "source": [
    "# Solve 1 1 4 6 puzzle:"
   ]
  },
  {
   "cell_type": "code",
   "execution_count": 4,
   "metadata": {},
   "outputs": [],
   "source": [
    "# Initialization\n",
    "\n",
    "step_api_config = eval_api_config = {\n",
    "    \"max_tokens\": 1000,\n",
    "    \"temperature\": 0,\n",
    "    \"top_p\": 1,\n",
    "    \"request_timeout\": 120,\n",
    "    \"top_k\": 50\n",
    "}\n",
    "\n",
    "# eligible providers [\"TogehterAI\", \"OpenAI\", \"Groq\"]\n",
    "model = \"llama-3.3-70b-versatile\"\n",
    "provider = \"Groq\"\n",
    "models = {\n",
    "    \"step\": {\"model_name\":model, \"provider\":provider},\n",
    "    \"eval\": {\"model_name\":model, \"provider\":provider},\n",
    "}\n",
    "\n",
    "api = API(eval_api_config, models=models.values(), resources=2, verbose=False)\n",
    "\n",
    "puzzle = \"1 1 4 6\"\n",
    "num_steps = 4\n",
    "num_agents = 2\n",
    "\n",
    "\n"
   ]
  },
  {
   "cell_type": "code",
   "execution_count": 6,
   "metadata": {},
   "outputs": [],
   "source": [
    "for agent_id, state in enumerate(states):\n",
    "    print(agent_id)\n",
    "    print(state)"
   ]
  },
  {
   "cell_type": "code",
   "execution_count": 5,
   "metadata": {},
   "outputs": [],
   "source": [
    "step_batcher = BatchingAPI(api, batch_size=1, timeout=2, model=models[\"step\"][\"model_name\"], tab=\"step\")"
   ]
  },
  {
   "cell_type": "code",
   "execution_count": 6,
   "metadata": {},
   "outputs": [],
   "source": [
    "reflexion = \"\""
   ]
  },
  {
   "cell_type": "code",
   "execution_count": 12,
   "metadata": {},
   "outputs": [],
   "source": [
    "# Attempting to solve the puzzle\n",
    "async def solvePuzzle(reflexion):\n",
    "    #Create initial state/environment\n",
    "    states = []\n",
    "    for _ in range(num_agents):\n",
    "        states.append(GameOf24State(puzzle=puzzle, current_state=puzzle, steps=[], randomness=random.randint(0, 1000)))\n",
    "\n",
    "    finished_states = []\n",
    "    #Stepping\n",
    "    for step in range(num_steps):\n",
    "        \n",
    "        print(f\"Step {step} : Stepping\")\n",
    "        #if numOfReflexions == 0:\n",
    "        agent_tasks = [\n",
    "            asyncio.create_task(\n",
    "            GameOf24Agent.step(state, step_batcher, namespace=(0, f\"Agent: {agent_id}\", f\"Step : {step}\"), reflexion=reflexion)\n",
    "            )\n",
    "            for agent_id, state in enumerate(states)\n",
    "        ]\n",
    "        # elif numOfReflexions == 1:\n",
    "        #     agent_tasks = [\n",
    "        #         asyncio.create_task(\n",
    "        #         GameOf24Agent.step(state, step_batcher, namespace=(0, f\"Agent: {agent_id}\", f\"Step : {step}\"), reflexion=reflexion[agent_id])\n",
    "        #         )\n",
    "        #         for agent_id, state in enumerate(states)\n",
    "        #     ]\n",
    "        # elif numOfReflexions == 2:\n",
    "        #     agent_tasks = [\n",
    "        #         asyncio.create_task(\n",
    "        #         GameOf24Agent.step(state, step_batcher, namespace=(0, f\"Agent: {agent_id}\", f\"Step : {step}\"), reflexion=reflexion[agent_id] + \"\\n\" + reflexion[agent_id+num_agents])\n",
    "        #         )\n",
    "        #         for agent_id, state in enumerate(states)\n",
    "        #     ]\n",
    "        states = await asyncio.gather(*agent_tasks)\n",
    "        for agent_id, state in enumerate(states):\n",
    "            print(f\"Current step for agent {agent_id}: {state.steps[-1]} \\n\")\n",
    "\n",
    "        # Evaluate whether a puzzle has been solved\n",
    "        i = 0\n",
    "        while i < len(states):\n",
    "            print(\"i: \", i)\n",
    "            if GameOf24Agent.verify(states[i]) == {\"r\": 1}:\n",
    "                print(f\"Puzzle finished: {states[i].puzzle}\")\n",
    "                finished_states.append(states.pop(i))\n",
    "            else:\n",
    "                i += 1\n",
    "\n",
    "        # If all puzzles have been solved, break\n",
    "        if len(states) == 0:\n",
    "            break\n",
    "    print(\"state in function: \", state)\n",
    "    return states"
   ]
  },
  {
   "cell_type": "code",
   "execution_count": 13,
   "metadata": {},
   "outputs": [
    {
     "name": "stdout",
     "output_type": "stream",
     "text": [
      "Step 0 : Stepping\n"
     ]
    },
    {
     "name": "stdout",
     "output_type": "stream",
     "text": [
      "Current step for agent 0: 1 + 1 = 2 (left: 2 4 6) \n",
      "\n",
      "Current step for agent 1: 6 - 1 = 5 (left: 1 4 5) \n",
      "\n",
      "i:  0\n",
      "i:  1\n",
      "Step 1 : Stepping\n",
      "Current step for agent 0: 2 * 4 = 8 (left: 6 8) \n",
      "\n",
      "Current step for agent 1: 4 + 5 = 9 (left: 1 9) \n",
      "\n",
      "i:  0\n",
      "i:  1\n",
      "Step 2 : Stepping\n",
      "Current step for agent 0: 6 - 8 = -2 (left: -2) \n",
      "\n",
      "Current step for agent 1: 1 + 9 = 10 (left: 10) \n",
      "\n",
      "i:  0\n",
      "i:  1\n",
      "Step 3 : Stepping\n",
      "Current step for agent 0: None \n",
      "\n",
      "Current step for agent 1: 10 + 10 = 20 (left: 20) \n",
      "\n",
      "i:  0\n",
      "i:  1\n",
      "state in function:  GameOf24State(puzzle='1 1 4 6', current_state='20', steps=['6 - 1 = 5 (left: 1 4 5)', '4 + 5 = 9 (left: 1 9)', '1 + 9 = 10 (left: 10)', '10 + 10 = 20 (left: 20)'], randomness=615)\n"
     ]
    }
   ],
   "source": [
    "states = await solvePuzzle(reflexion)"
   ]
  },
  {
   "cell_type": "code",
   "execution_count": 38,
   "metadata": {},
   "outputs": [],
   "source": [
    "async def makeReflexion(reflexion_type, num_reflexions, k):\n",
    "    agent_reflexions = [\n",
    "        asyncio.create_task(\n",
    "        GameOf24Agent.generate_reflexion(puzzle=puzzle, steps=state.steps, state=state, api=step_batcher, namespace=(0, f\"Agent: {agent_id}\", f\"Step : {step}\"))\n",
    "        )\n",
    "        for agent_id, state in enumerate(states)\n",
    "    ]\n",
    "    reflexion = await asyncio.gather(*agent_reflexions)\n",
    "    if num_reflexions > 1:\n",
    "        for i in range(num_reflexions):\n",
    "            agent_reflexions = [\n",
    "                asyncio.create_task(\n",
    "                GameOf24Agent.generate_reflexion(puzzle=puzzle, steps=state.steps, state=state, api=step_batcher, namespace=(0, f\"Agent: {agent_id}\", f\"Step : {step}\"))\n",
    "                )\n",
    "                for agent_id, state in enumerate(states)\n",
    "            ]\n",
    "            new_reflexions = await asyncio.gather(*agent_reflexions)\n",
    "\n",
    "            for agent_id, agent_reflexion in enumerate(new_reflexions):\n",
    "                reflexion.append(agent_reflexion)\n",
    "                print(f\"reflexion {agent_id}: {agent_reflexion}\")\n",
    "\n",
    "    if reflexion_type == \"list\":\n",
    "        return reflexion\n",
    "\n",
    "    elif reflexion_type == \"k most recent\":\n",
    "        reflexion = reflexion[-k:]\n",
    "        return reflexion\n",
    "\n",
    "    elif reflexion_type == \"summary\":\n",
    "        agent_reflexions = [\n",
    "                asyncio.create_task(\n",
    "                GameOf24Agent.generate_summary(puzzle=puzzle, steps=state.steps, state=state, api=step_batcher, namespace=(0, f\"Agent: {agent_id}\", f\"Step : {step}\"))\n",
    "                )\n",
    "                for agent_id, state in enumerate(states)\n",
    "            ]\n",
    "        summary = await asyncio.gather(*agent_reflexion)\n",
    "        return summary\n",
    "    else:\n",
    "        print(\"unknown type\")\n",
    "\n",
    "    return reflexion"
   ]
  },
  {
   "cell_type": "code",
   "execution_count": 39,
   "metadata": {},
   "outputs": [
    {
     "name": "stdout",
     "output_type": "stream",
     "text": [
      "[]\n"
     ]
    }
   ],
   "source": [
    "reflexion = await makeReflexion(\"list\", 1, 1)\n",
    "\n",
    "print(reflexion)"
   ]
  },
  {
   "cell_type": "code",
   "execution_count": 14,
   "metadata": {},
   "outputs": [
    {
     "ename": "NameError",
     "evalue": "name 'step' is not defined",
     "output_type": "error",
     "traceback": [
      "\u001b[1;31m---------------------------------------------------------------------------\u001b[0m",
      "\u001b[1;31mNameError\u001b[0m                                 Traceback (most recent call last)",
      "Cell \u001b[1;32mIn[14], line 5\u001b[0m\n\u001b[0;32m      1\u001b[0m \u001b[38;5;66;03m# Generate reflexions if the puzzle is not solved\u001b[39;00m\n\u001b[0;32m      3\u001b[0m agent_reflexions \u001b[38;5;241m=\u001b[39m [\n\u001b[0;32m      4\u001b[0m     asyncio\u001b[38;5;241m.\u001b[39mcreate_task(\n\u001b[1;32m----> 5\u001b[0m     GameOf24Agent\u001b[38;5;241m.\u001b[39mgenerate_reflexion(puzzle\u001b[38;5;241m=\u001b[39mpuzzle, steps\u001b[38;5;241m=\u001b[39mstate\u001b[38;5;241m.\u001b[39msteps, state\u001b[38;5;241m=\u001b[39mstate, api\u001b[38;5;241m=\u001b[39mstep_batcher, namespace\u001b[38;5;241m=\u001b[39m(\u001b[38;5;241m0\u001b[39m, \u001b[38;5;124mf\u001b[39m\u001b[38;5;124m\"\u001b[39m\u001b[38;5;124mAgent: \u001b[39m\u001b[38;5;132;01m{\u001b[39;00magent_id\u001b[38;5;132;01m}\u001b[39;00m\u001b[38;5;124m\"\u001b[39m, \u001b[38;5;124mf\u001b[39m\u001b[38;5;124m\"\u001b[39m\u001b[38;5;124mStep : \u001b[39m\u001b[38;5;132;01m{\u001b[39;00m\u001b[43mstep\u001b[49m\u001b[38;5;132;01m}\u001b[39;00m\u001b[38;5;124m\"\u001b[39m))\n\u001b[0;32m      6\u001b[0m     )\n\u001b[0;32m      7\u001b[0m     \u001b[38;5;28;01mfor\u001b[39;00m agent_id, state \u001b[38;5;129;01min\u001b[39;00m \u001b[38;5;28menumerate\u001b[39m(states)\n\u001b[0;32m      8\u001b[0m ]\n\u001b[0;32m      9\u001b[0m reflexion \u001b[38;5;241m=\u001b[39m \u001b[38;5;28;01mawait\u001b[39;00m asyncio\u001b[38;5;241m.\u001b[39mgather(\u001b[38;5;241m*\u001b[39magent_reflexions)\n\u001b[0;32m     11\u001b[0m \u001b[38;5;28;01mfor\u001b[39;00m agent_id, agent_reflexion \u001b[38;5;129;01min\u001b[39;00m \u001b[38;5;28menumerate\u001b[39m(reflexion):\n",
      "\u001b[1;31mNameError\u001b[0m: name 'step' is not defined"
     ]
    }
   ],
   "source": [
    "# Generate reflexions if the puzzle is not solved\n",
    "\n",
    "agent_reflexions = [\n",
    "    asyncio.create_task(\n",
    "    GameOf24Agent.generate_reflexion(puzzle=puzzle, steps=state.steps, state=state, api=step_batcher, namespace=(0, f\"Agent: {agent_id}\", f\"Step : {step}\"))\n",
    "    )\n",
    "    for agent_id, state in enumerate(states)\n",
    "]\n",
    "reflexion = await asyncio.gather(*agent_reflexions)\n",
    "\n",
    "for agent_id, agent_reflexion in enumerate(reflexion):\n",
    "    print(f\"reflexion {agent_id}: {agent_reflexion}\")"
   ]
  },
  {
   "cell_type": "code",
   "execution_count": 41,
   "metadata": {},
   "outputs": [
    {
     "data": {
      "text/plain": [
       "0"
      ]
     },
     "execution_count": 41,
     "metadata": {},
     "output_type": "execute_result"
    }
   ],
   "source": [
    "len(reflexion)"
   ]
  },
  {
   "cell_type": "code",
   "execution_count": 13,
   "metadata": {},
   "outputs": [
    {
     "name": "stdout",
     "output_type": "stream",
     "text": [
      "Step 0 : Stepping\n"
     ]
    },
    {
     "ename": "TypeError",
     "evalue": "object of type 'int' has no len()",
     "output_type": "error",
     "traceback": [
      "\u001b[0;31m---------------------------------------------------------------------------\u001b[0m",
      "\u001b[0;31mTypeError\u001b[0m                                 Traceback (most recent call last)",
      "Cell \u001b[0;32mIn[13], line 2\u001b[0m\n\u001b[1;32m      1\u001b[0m \u001b[38;5;66;03m# Reattempting to solve the puzzle (with reflexion)\u001b[39;00m\n\u001b[0;32m----> 2\u001b[0m \u001b[38;5;28;01mawait\u001b[39;00m solvePuzzle(\u001b[38;5;241m1\u001b[39m)\n",
      "Cell \u001b[0;32mIn[9], line 34\u001b[0m, in \u001b[0;36msolvePuzzle\u001b[0;34m(reflexion)\u001b[0m\n\u001b[1;32m     14\u001b[0m agent_tasks \u001b[38;5;241m=\u001b[39m [\n\u001b[1;32m     15\u001b[0m     asyncio\u001b[38;5;241m.\u001b[39mcreate_task(\n\u001b[1;32m     16\u001b[0m     GameOf24Agent\u001b[38;5;241m.\u001b[39mstep(state, step_batcher, namespace\u001b[38;5;241m=\u001b[39m(\u001b[38;5;241m0\u001b[39m, \u001b[38;5;124mf\u001b[39m\u001b[38;5;124m\"\u001b[39m\u001b[38;5;124mAgent: \u001b[39m\u001b[38;5;132;01m{\u001b[39;00magent_id\u001b[38;5;132;01m}\u001b[39;00m\u001b[38;5;124m\"\u001b[39m, \u001b[38;5;124mf\u001b[39m\u001b[38;5;124m\"\u001b[39m\u001b[38;5;124mStep : \u001b[39m\u001b[38;5;132;01m{\u001b[39;00mstep\u001b[38;5;132;01m}\u001b[39;00m\u001b[38;5;124m\"\u001b[39m), reflexion\u001b[38;5;241m=\u001b[39mreflexion)\n\u001b[1;32m     17\u001b[0m     )\n\u001b[1;32m     18\u001b[0m     \u001b[38;5;28;01mfor\u001b[39;00m agent_id, state \u001b[38;5;129;01min\u001b[39;00m \u001b[38;5;28menumerate\u001b[39m(states)\n\u001b[1;32m     19\u001b[0m ]\n\u001b[1;32m     20\u001b[0m \u001b[38;5;66;03m# elif numOfReflexions == 1:\u001b[39;00m\n\u001b[1;32m     21\u001b[0m \u001b[38;5;66;03m#     agent_tasks = [\u001b[39;00m\n\u001b[1;32m     22\u001b[0m \u001b[38;5;66;03m#         asyncio.create_task(\u001b[39;00m\n\u001b[0;32m   (...)\u001b[0m\n\u001b[1;32m     32\u001b[0m \u001b[38;5;66;03m#         for agent_id, state in enumerate(states)\u001b[39;00m\n\u001b[1;32m     33\u001b[0m \u001b[38;5;66;03m#     ]\u001b[39;00m\n\u001b[0;32m---> 34\u001b[0m states \u001b[38;5;241m=\u001b[39m \u001b[38;5;28;01mawait\u001b[39;00m asyncio\u001b[38;5;241m.\u001b[39mgather(\u001b[38;5;241m*\u001b[39magent_tasks)\n\u001b[1;32m     35\u001b[0m \u001b[38;5;28;01mfor\u001b[39;00m agent_id, state \u001b[38;5;129;01min\u001b[39;00m \u001b[38;5;28menumerate\u001b[39m(states):\n\u001b[1;32m     36\u001b[0m     \u001b[38;5;28mprint\u001b[39m(\u001b[38;5;124mf\u001b[39m\u001b[38;5;124m\"\u001b[39m\u001b[38;5;124mCurrent step for agent \u001b[39m\u001b[38;5;132;01m{\u001b[39;00magent_id\u001b[38;5;132;01m}\u001b[39;00m\u001b[38;5;124m: \u001b[39m\u001b[38;5;132;01m{\u001b[39;00mstate\u001b[38;5;241m.\u001b[39msteps[\u001b[38;5;241m-\u001b[39m\u001b[38;5;241m1\u001b[39m]\u001b[38;5;132;01m}\u001b[39;00m\u001b[38;5;124m \u001b[39m\u001b[38;5;130;01m\\n\u001b[39;00m\u001b[38;5;124m\"\u001b[39m)\n",
      "Cell \u001b[0;32mIn[4], line 52\u001b[0m, in \u001b[0;36mGameOf24Agent.step\u001b[0;34m(state, api, namespace, reflexion)\u001b[0m\n\u001b[1;32m     47\u001b[0m     selected_state \u001b[38;5;241m=\u001b[39m state\u001b[38;5;241m.\u001b[39mcurrent_state\n\u001b[1;32m     51\u001b[0m \u001b[38;5;28;01melse\u001b[39;00m:\n\u001b[0;32m---> 52\u001b[0m     \u001b[38;5;28;01mif\u001b[39;00m \u001b[38;5;28;43mlen\u001b[39;49m\u001b[43m(\u001b[49m\u001b[43mreflexion\u001b[49m\u001b[43m)\u001b[49m \u001b[38;5;241m==\u001b[39m \u001b[38;5;241m0\u001b[39m:\n\u001b[1;32m     53\u001b[0m         prompt \u001b[38;5;241m=\u001b[39m llama_prompts\u001b[38;5;241m.\u001b[39mbfs_prompt\u001b[38;5;241m.\u001b[39mformat(\u001b[38;5;28minput\u001b[39m\u001b[38;5;241m=\u001b[39mcurrent_state) \n\u001b[1;32m     54\u001b[0m     \u001b[38;5;28;01melse\u001b[39;00m:\n",
      "\u001b[0;31mTypeError\u001b[0m: object of type 'int' has no len()"
     ]
    }
   ],
   "source": [
    "# Reattempting to solve the puzzle (with reflexion)\n",
    "await solvePuzzle(reflexion)"
   ]
  },
  {
   "cell_type": "code",
   "execution_count": null,
   "metadata": {},
   "outputs": [
    {
     "name": "stdout",
     "output_type": "stream",
     "text": [
      "[GameOf24State(puzzle='1 1 4 6', current_state='No possible next steps, only one number remains.', steps=['1 * 6 = 6 (left: 1 4 6)', '1 / 6 = 0.1666666667 (left: 0.1666666667 4)', '0.1666666667 - 4 = -3.8333333333 (left: -3.8333333333)', 'No possible next steps, only one number remains.'], randomness=652), GameOf24State(puzzle='1 1 4 6', current_state='No possible next steps.', steps=['1 - 6 = -5 (left: -5 1 4)', '4 + -5 = -1 (left: -1 1)', '1 + (-1) = 0 (left: 0)', 'No possible next steps.'], randomness=910)]\n"
     ]
    }
   ],
   "source": [
    "print(states)"
   ]
  },
  {
   "cell_type": "code",
   "execution_count": null,
   "metadata": {},
   "outputs": [
    {
     "name": "stdout",
     "output_type": "stream",
     "text": [
      "reflexion 0: Reflection:\n",
      "The mistake in the previous attempt is the division operation (1 / 6) that resulted in a fractional number, leading to a dead end. This mistake can be avoided by prioritizing operations that preserve integers, as the goal is to reach 24, an integer. A general reflection is to favor operations that maintain whole numbers, especially in the early stages of the puzzle, to keep more possibilities open for subsequent steps.\n",
      "reflexion 1: The previous attempt at solving the puzzle contains a mistake in its approach. The error lies in the operations performed, which led to a dead end with no possible next steps. Specifically, the subtraction operation (1 - 6 = -5) introduced a negative number, and subsequent operations failed to recover and reach the target result of 24.\n",
      "\n",
      "This mistake can be generalized as a lack of consideration for the overall goal and the properties of the numbers involved. To avoid similar mistakes, it's essential to carefully evaluate the initial numbers and plan a sequence of operations that preserves the potential to reach the target result. This can be achieved by exploring different combinations of operations and considering the properties of the numbers, such as their factors and relationships.\n"
     ]
    }
   ],
   "source": [
    "agent_reflexions = [\n",
    "    asyncio.create_task(\n",
    "    GameOf24Agent.generate_reflexion(puzzle=puzzle, steps=state.steps, state=state, api=step_batcher, namespace=(0, f\"Agent: {agent_id}\", f\"Step : {step}\"))\n",
    "    )\n",
    "    for agent_id, state in enumerate(states)\n",
    "]\n",
    "new_reflexions = await asyncio.gather(*agent_reflexions)\n",
    "\n",
    "\n",
    "for agent_id, agent_reflexion in enumerate(new_reflexions):\n",
    "    reflexion.append(agent_reflexion)\n",
    "    print(f\"reflexion {agent_id}: {agent_reflexion}\")"
   ]
  },
  {
   "cell_type": "code",
   "execution_count": null,
   "metadata": {},
   "outputs": [
    {
     "name": "stdout",
     "output_type": "stream",
     "text": [
      "4\n"
     ]
    }
   ],
   "source": [
    "print(len(reflexion))"
   ]
  },
  {
   "cell_type": "code",
   "execution_count": null,
   "metadata": {},
   "outputs": [
    {
     "name": "stdout",
     "output_type": "stream",
     "text": [
      "Step 0 : Stepping\n"
     ]
    },
    {
     "ename": "IndexError",
     "evalue": "list index out of range",
     "output_type": "error",
     "traceback": [
      "\u001b[0;31m---------------------------------------------------------------------------\u001b[0m",
      "\u001b[0;31mIndexError\u001b[0m                                Traceback (most recent call last)",
      "Cell \u001b[0;32mIn[11], line 1\u001b[0m\n\u001b[0;32m----> 1\u001b[0m \u001b[38;5;28;01mawait\u001b[39;00m solvePuzzle(\u001b[38;5;241m2\u001b[39m)\n",
      "Cell \u001b[0;32mIn[7], line 31\u001b[0m, in \u001b[0;36msolvePuzzle\u001b[0;34m(numOfReflexions)\u001b[0m\n\u001b[1;32m     22\u001b[0m     agent_tasks \u001b[38;5;241m=\u001b[39m [\n\u001b[1;32m     23\u001b[0m         asyncio\u001b[38;5;241m.\u001b[39mcreate_task(\n\u001b[1;32m     24\u001b[0m         GameOf24Agent\u001b[38;5;241m.\u001b[39mstep(state, step_batcher, namespace\u001b[38;5;241m=\u001b[39m(\u001b[38;5;241m0\u001b[39m, \u001b[38;5;124mf\u001b[39m\u001b[38;5;124m\"\u001b[39m\u001b[38;5;124mAgent: \u001b[39m\u001b[38;5;132;01m{\u001b[39;00magent_id\u001b[38;5;132;01m}\u001b[39;00m\u001b[38;5;124m\"\u001b[39m, \u001b[38;5;124mf\u001b[39m\u001b[38;5;124m\"\u001b[39m\u001b[38;5;124mStep : \u001b[39m\u001b[38;5;132;01m{\u001b[39;00mstep\u001b[38;5;132;01m}\u001b[39;00m\u001b[38;5;124m\"\u001b[39m), reflexion\u001b[38;5;241m=\u001b[39mreflexion[agent_id])\n\u001b[1;32m     25\u001b[0m         )\n\u001b[1;32m     26\u001b[0m         \u001b[38;5;28;01mfor\u001b[39;00m agent_id, state \u001b[38;5;129;01min\u001b[39;00m \u001b[38;5;28menumerate\u001b[39m(states)\n\u001b[1;32m     27\u001b[0m     ]\n\u001b[1;32m     28\u001b[0m \u001b[38;5;28;01melif\u001b[39;00m numOfReflexions \u001b[38;5;241m==\u001b[39m \u001b[38;5;241m2\u001b[39m:\n\u001b[1;32m     29\u001b[0m     agent_tasks \u001b[38;5;241m=\u001b[39m [\n\u001b[1;32m     30\u001b[0m         asyncio\u001b[38;5;241m.\u001b[39mcreate_task(\n\u001b[0;32m---> 31\u001b[0m         GameOf24Agent\u001b[38;5;241m.\u001b[39mstep(state, step_batcher, namespace\u001b[38;5;241m=\u001b[39m(\u001b[38;5;241m0\u001b[39m, \u001b[38;5;124mf\u001b[39m\u001b[38;5;124m\"\u001b[39m\u001b[38;5;124mAgent: \u001b[39m\u001b[38;5;132;01m{\u001b[39;00magent_id\u001b[38;5;132;01m}\u001b[39;00m\u001b[38;5;124m\"\u001b[39m, \u001b[38;5;124mf\u001b[39m\u001b[38;5;124m\"\u001b[39m\u001b[38;5;124mStep : \u001b[39m\u001b[38;5;132;01m{\u001b[39;00mstep\u001b[38;5;132;01m}\u001b[39;00m\u001b[38;5;124m\"\u001b[39m), reflexion\u001b[38;5;241m=\u001b[39m\u001b[43mreflexion\u001b[49m\u001b[43m[\u001b[49m\u001b[43magent_id\u001b[49m\u001b[43m]\u001b[49m \u001b[38;5;241m+\u001b[39m \u001b[38;5;124m\"\u001b[39m\u001b[38;5;130;01m\\n\u001b[39;00m\u001b[38;5;124m\"\u001b[39m \u001b[38;5;241m+\u001b[39m reflexion[agent_id\u001b[38;5;241m+\u001b[39mnum_agents])\n\u001b[1;32m     32\u001b[0m         )\n\u001b[1;32m     33\u001b[0m         \u001b[38;5;28;01mfor\u001b[39;00m agent_id, state \u001b[38;5;129;01min\u001b[39;00m \u001b[38;5;28menumerate\u001b[39m(states)\n\u001b[1;32m     34\u001b[0m     ]\n\u001b[1;32m     35\u001b[0m states \u001b[38;5;241m=\u001b[39m \u001b[38;5;28;01mawait\u001b[39;00m asyncio\u001b[38;5;241m.\u001b[39mgather(\u001b[38;5;241m*\u001b[39magent_tasks)\n\u001b[1;32m     36\u001b[0m \u001b[38;5;28;01mfor\u001b[39;00m agent_id, state \u001b[38;5;129;01min\u001b[39;00m \u001b[38;5;28menumerate\u001b[39m(states):\n",
      "\u001b[0;31mIndexError\u001b[0m: list index out of range"
     ]
    }
   ],
   "source": [
    "await solvePuzzle(2)"
   ]
  },
  {
   "cell_type": "code",
   "execution_count": null,
   "metadata": {},
   "outputs": [
    {
     "ename": "NameError",
     "evalue": "name 'solvePuzzle' is not defined",
     "output_type": "error",
     "traceback": [
      "\u001b[0;31m---------------------------------------------------------------------------\u001b[0m",
      "\u001b[0;31mNameError\u001b[0m                                 Traceback (most recent call last)",
      "Cell \u001b[0;32mIn[1], line 1\u001b[0m\n\u001b[0;32m----> 1\u001b[0m \u001b[38;5;28;01mawait\u001b[39;00m \u001b[43msolvePuzzle\u001b[49m(\u001b[38;5;241m2\u001b[39m)\n",
      "\u001b[0;31mNameError\u001b[0m: name 'solvePuzzle' is not defined"
     ]
    }
   ],
   "source": [
    "# Reattempting to solve for the second time the puzzle (with reflexion)\n",
    "\n",
    "#Resetting\n",
    "states = []\n",
    "for _ in range(num_agents):\n",
    "    states.append(GameOf24State(puzzle=puzzle, current_state=puzzle, steps=[], randomness=random.randint(0, 1000)))\n",
    "finished_states = []\n",
    "\n",
    "\n",
    "\n",
    "#Stepping\n",
    "for step in range(num_steps):\n",
    "    \n",
    "    print(f\"Step {step} : Stepping\")\n",
    "    agent_tasks = [\n",
    "        asyncio.create_task(\n",
    "        GameOf24Agent.step(state, step_batcher, namespace=(0, f\"Agent: {agent_id}\", f\"Step : {step}\"), reflexion=reflexion[agent_id] + \"\\n\" + reflexion[agent_id+num_agents])\n",
    "        )\n",
    "        for agent_id, state in enumerate(states)\n",
    "    ]\n",
    "\n",
    "    states = await asyncio.gather(*agent_tasks)\n",
    "\n",
    "    for agent_id, state in enumerate(states):\n",
    "        print(f\"Current step for agent {agent_id}: {state.steps[-1]} \\n\")\n",
    "\n",
    "    # Evaluate whether a puzzle has been solved\n",
    "    i = 0\n",
    "    while i < len(states):\n",
    "        print(\"i: \", i)\n",
    "        if GameOf24Agent.verify(states[i]) == {\"r\": 1}:\n",
    "            print(f\"Puzzle finished: {states[i].puzzle}\")\n",
    "            finished_states.append(states.pop(i))\n",
    "        else:\n",
    "            i += 1\n",
    "\n",
    "    # If all puzzles have been solved, break\n",
    "    if len(states) == 0:\n",
    "        break"
   ]
  }
 ],
 "metadata": {
  "kernelspec": {
   "display_name": "Python 3",
   "language": "python",
   "name": "python3"
  },
  "language_info": {
   "codemirror_mode": {
    "name": "ipython",
    "version": 3
   },
   "file_extension": ".py",
   "mimetype": "text/x-python",
   "name": "python",
   "nbconvert_exporter": "python",
   "pygments_lexer": "ipython3",
   "version": "3.12.3"
  }
 },
 "nbformat": 4,
 "nbformat_minor": 2
}
