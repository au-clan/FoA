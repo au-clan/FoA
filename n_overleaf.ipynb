{
 "cells": [
  {
   "cell_type": "markdown",
   "metadata": {},
   "source": [
    "# Game of 24"
   ]
  },
  {
   "cell_type": "code",
   "execution_count": null,
   "metadata": {},
   "outputs": [],
   "source": [
    "import re\n",
    "import json\n",
    "import os\n",
    "\n",
    "def get_files_in_folder(folder_path):\n",
    "    files = []\n",
    "    for file in os.listdir(folder_path):\n",
    "        if os.path.isfile(os.path.join(folder_path, file)):\n",
    "            files.append(folder_path + \"/\" +file)\n",
    "    return files\n",
    "\n",
    "def get_number(string):\n",
    "    numbers = re.findall(r'\\d+', string)\n",
    "    numbers = list(map(int, numbers))\n",
    "    return numbers[0] \n",
    "    \n",
    "def get_params(file_path):\n",
    "    data = {}\n",
    "\n",
    "    file_name = file_path.split('/')[-1]\n",
    "    params = file_name.split('_')\n",
    "\n",
    "    data[\"set\"] = params[0].split(\"-\")[0]\n",
    "    data[\"n_agents\"] = get_number(params[1])\n",
    "    data[\"n_steps\"] = get_number(params[2])\n",
    "    data[\"k\"] = get_number(params[3])\n",
    "    data[\"origin_value\"] = get_number(params[4])\n",
    "    data[\"backtrack\"] = get_number(params[5].split(\".\")[1])/10\n",
    "    data[\"resampling\"] = params[6].split(\"-\")[0]\n",
    "\n",
    "    with open(file_path, 'r') as file:\n",
    "        results = json.load(file)\n",
    "\n",
    "    data[\"cost\"] = results.pop(\"Cost\")\n",
    "    success = 0\n",
    "    for experiment in results.values():\n",
    "        if {\"r\":1} in experiment[\"Verifications\"]:\n",
    "            success +=1\n",
    "    success_rate  = success/len(results)\n",
    "\n",
    "    data[\"success_rate\"] = success_rate\n",
    "\n",
    "    return data"
   ]
  },
  {
   "cell_type": "code",
   "execution_count": null,
   "metadata": {},
   "outputs": [],
   "source": [
    "files = get_files_in_folder(\"logs/2024-03-14/gameof24/22:00\")\n",
    "\n",
    "results = [get_params(file) for file in files]\n",
    "results = sorted(results, key=lambda x: x[\"success_rate\"], reverse=True)\n",
    "results[0]"
   ]
  }
 ],
 "metadata": {
  "kernelspec": {
   "display_name": "Python 3",
   "language": "python",
   "name": "python3"
  },
  "language_info": {
   "codemirror_mode": {
    "name": "ipython",
    "version": 3
   },
   "file_extension": ".py",
   "mimetype": "text/x-python",
   "name": "python",
   "nbconvert_exporter": "python",
   "pygments_lexer": "ipython3",
   "version": "3.11.7"
  }
 },
 "nbformat": 4,
 "nbformat_minor": 2
}
