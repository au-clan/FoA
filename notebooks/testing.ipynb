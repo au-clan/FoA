{
 "cells": [
  {
   "cell_type": "markdown",
   "metadata": {},
   "source": [
    "# Testing notebook\n",
    "This is a testing notebook, serving no other purpose other than testing things out while developping."
   ]
  },
  {
   "cell_type": "code",
   "execution_count": 8,
   "metadata": {},
   "outputs": [],
   "source": [
    "import sys, os\n",
    "sys.path.append(\"..\")\n",
    "\n",
    "import numpy as np\n",
    "from random import randint\n",
    "\n",
    "from src.models import OpenAIBot\n",
    "from src.prompts.game24 import foa_step_prompt, value_prompt, value_last_step_prompt, bfs_prompt\n",
    "from src.tasks.base import DATA_PATH\n",
    "from src.tasks.game24 import Game24\n",
    "from src.methods.agents import Agents\n",
    "from src.methods.resampler import Resampler\n",
    "\n",
    "from src.utils import empty_folder\n",
    "\n",
    "%load_ext autoreload\n",
    "%autoreload 2\n",
    "\n",
    "bot = OpenAIBot(model=\"gpt-3.5-turbo-1106\")\n",
    "#bot = OpenAIBot(model=\"gpt-4\")"
   ]
  },
  {
   "cell_type": "code",
   "execution_count": null,
   "metadata": {},
   "outputs": [],
   "source": [
    "# CoT + ToT's prompt to test the model (based on ToT only 4% success rate)\n",
    "from src.prompts.game24 import foa_step_prompt, value_prompt, value_last_step_prompt, bfs_prompt\n",
    "\n",
    "input = \"5 120\"\n",
    "\n",
    "prompt = foa_step_prompt.format(input=input) \n",
    "response = bot.request(prompt)\n",
    "\n",
    "print(f\"Prompt \\n{prompt}\")\n",
    "print(\"----\\n----\\n\")\n",
    "print(f\"Response \\n{response}\")"
   ]
  },
  {
   "cell_type": "code",
   "execution_count": null,
   "metadata": {},
   "outputs": [],
   "source": [
    "# Game24 task step function\n",
    "\n",
    "task = Game24(bot)\n",
    "idx = randint(0, len(task))\n",
    "task.get_input(idx)\n",
    "\n",
    "\n",
    "value_numbers = []\n",
    "for i in range(task.max_steps):\n",
    "    task.step()\n",
    "    value_number = task.evaluate()\n",
    "    value_numbers.append(value_number)\n",
    "summary = []\n",
    "\n",
    "for i in range(len(task.steps)):\n",
    "    temp = task.steps[i] + f\" [Value : {value_numbers[i]}]\"\n",
    "    summary.append(temp)\n",
    "\n",
    "print(f\"Input: {task.input}\")\n",
    "print(\"\\n\".join(summary))"
   ]
  },
  {
   "cell_type": "code",
   "execution_count": null,
   "metadata": {},
   "outputs": [],
   "source": [
    "# Resampler\n",
    "\n",
    "values = np.array([20, 10, 5, 1, 0.0001])\n",
    "resampler = Resampler()\n",
    "\n",
    "# Normalized resampling\n",
    "draw = resampler.resample(values, resample_method=\"normalization\")\n",
    "print(f\"Normalized : {draw}\")\n",
    "\n",
    "\n",
    "# Greedy\n",
    "draw = resampler.resample(values, resample_method=\"greedy\")\n",
    "print(f\"Greedy : {draw}\")\n"
   ]
  },
  {
   "cell_type": "code",
   "execution_count": null,
   "metadata": {},
   "outputs": [],
   "source": [
    "# Multiple agents\n",
    "\n",
    "idx_input = 8\n",
    "n_evaluations = 2\n",
    "n_agents = 5\n",
    "\n",
    "# Create agents\n",
    "agents = Agents(task=Game24, idx_input=idx_input, n_agents=n_agents, model=bot)\n",
    "\n",
    "# Run agents\n",
    "for i in range(agents.max_steps-1):\n",
    "    agents.step()\n",
    "    agents.evaluate(n=n_evaluations)\n",
    "    agents.resample()\n",
    "\n",
    "# Final step : Finish answers format + Choose best answer\n",
    "agents.step() \n",
    "agents.evaluate()\n",
    "best_agent = agents.choose()\n",
    "\n",
    "# Log results\n",
    "current_path = os.getcwd()\n",
    "log_path = os.path.join(os.path.dirname(current_path), \"logs\")\n",
    "empty_folder(log_path)\n",
    "agents.create_log(repo_path=log_path)"
   ]
  },
  {
   "cell_type": "code",
   "execution_count": null,
   "metadata": {},
   "outputs": [],
   "source": [
    "# Test results funciton\n",
    "\n",
    "idx_input = 8\n",
    "n_evaluations = 3\n",
    "n_agents = 5\n",
    "\n",
    "# Create agents\n",
    "agents = Agents(task=Game24, idx_input=idx_input, n_agents=n_agents, model=bot)\n",
    "\n",
    "# Run agents\n",
    "for i in range(agents.max_steps-1):\n",
    "    agents.step()\n",
    "    agents.evaluate(n=n_evaluations)\n",
    "    agents.resample()\n",
    "\n",
    "# Final step : Finish answers format + Choose best answer\n",
    "agents.step() \n",
    "\n",
    "print(\"\\n\\n\".join([\"\\n\".join(agent.steps) for agent in agents.agents]))\n",
    "print(f\"\\nResults : {agents.test_output()}\")"
   ]
  }
 ],
 "metadata": {
  "kernelspec": {
   "display_name": "foa",
   "language": "python",
   "name": "python3"
  },
  "language_info": {
   "codemirror_mode": {
    "name": "ipython",
    "version": 3
   },
   "file_extension": ".py",
   "mimetype": "text/x-python",
   "name": "python",
   "nbconvert_exporter": "python",
   "pygments_lexer": "ipython3",
   "version": "3.11.7"
  }
 },
 "nbformat": 4,
 "nbformat_minor": 2
}
